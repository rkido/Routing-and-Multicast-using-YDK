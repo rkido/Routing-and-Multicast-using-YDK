{
 "cells": [
  {
   "cell_type": "markdown",
   "metadata": {},
   "source": [
    "# Lets show you how YDK works with this notebook. <img src=\"img/YDK.png\" img align=\"right\"/>\n",
    "<br>\n",
    "YDK (***YANG Development Kit***), provides an API to interact directly with a network supporting YANG models.  \n",
    "It is available on github and provided for use via license to the Apache Software Foundation.  \n",
    "Currently on YDK Version : 0.5.5\n",
    "<img src=\"img/netimage.png\" img align=\"center\"/>\n",
    "\n",
    "<br>\n"
   ]
  },
  {
   "cell_type": "markdown",
   "metadata": {},
   "source": [
    "### First lets import the proper python modules, including those provided by YDK."
   ]
  },
  {
   "cell_type": "code",
   "execution_count": null,
   "metadata": {
    "collapsed": true
   },
   "outputs": [],
   "source": [
    "from ydk.providers import NetconfServiceProvider\n",
    "from ydk.services import CRUDService\n",
    "from ydk.services import CodecService\n",
    "from ydk.providers import CodecServiceProvider\n",
    "from ydk.models.cisco_ios_xe import Cisco_IOS_XE_native\n",
    "import json\n",
    "import xmltodict"
   ]
  },
  {
   "cell_type": "markdown",
   "metadata": {},
   "source": [
    "### YDK lets us create objects that represent configuration data.\n",
    "\n",
    "We need to instantiate the object we want to read.  Here this is the entire Native model.\n",
    "We are also giving YDK the connnection parameters for how to talk to the device.  Here this includes using *NETCONF* which uses SSH as its transport via port 830.  We have also provided the username and password within the code, but this could easily have been grabbed at a command line prompt to avoid having it in the script.  **Don't forget to change user/pass**."
   ]
  },
  {
   "cell_type": "code",
   "execution_count": null,
   "metadata": {
    "collapsed": true
   },
   "outputs": [],
   "source": [
    "nativeobject = Cisco_IOS_XE_native.Native.Router()\n",
    "connection = NetconfServiceProvider(address=\"10.92.77.167\", port=830, username='cisco', password='cisco')"
   ]
  },
  {
   "cell_type": "markdown",
   "metadata": {},
   "source": [
    "### We can also operate using CRUD operations.\n",
    "\n",
    "CRUD maps well to NETCONF mechanisms, CREATE/UPDATE/DELETE = edit-config, READ = get or get-config.  There are other NETCONF operators but the three listed here are the most common in YDK.  \n",
    "Now we will create a CRUD service and issue a read against the Native object that we previously created."
   ]
  },
  {
   "cell_type": "code",
   "execution_count": null,
   "metadata": {
    "collapsed": true
   },
   "outputs": [],
   "source": [
    "crud = CRUDService()\n",
    "nativedata = crud.read(connection, nativeobject)\n"
   ]
  },
  {
   "cell_type": "markdown",
   "metadata": {},
   "source": [
    "### Codec services allow us encode our operation object for viewing.\n",
    "\n",
    "Here we are encoding the previously completed read operation into something we can read and print out on the screen.\n",
    "Finally we will close our connection to the network device."
   ]
  },
  {
   "cell_type": "code",
   "execution_count": null,
   "metadata": {},
   "outputs": [],
   "source": [
    "provider = CodecServiceProvider(type=\"xml\")\n",
    "codec = CodecService()\n",
    "xmls = codec.encode(provider, nativedata)\n",
    "o = xmltodict.parse(xmls)\n",
    "print(json.dumps(o, indent=4))\n",
    "\n",
    "connection.close()"
   ]
  },
  {
   "cell_type": "code",
   "execution_count": null,
   "metadata": {
    "collapsed": true
   },
   "outputs": [],
   "source": []
  }
 ],
 "metadata": {
  "kernelspec": {
   "display_name": "Python 3",
   "language": "python",
   "name": "python3"
  },
  "language_info": {
   "codemirror_mode": {
    "name": "ipython",
    "version": 3
   },
   "file_extension": ".py",
   "mimetype": "text/x-python",
   "name": "python",
   "nbconvert_exporter": "python",
   "pygments_lexer": "ipython3",
   "version": "3.6.1"
  }
 },
 "nbformat": 4,
 "nbformat_minor": 2
}
